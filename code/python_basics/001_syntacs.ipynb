{
 "cells": [
  {
   "cell_type": "markdown",
   "metadata": {},
   "source": [
    "# Python Syntax and Semantics\n",
    "\n",
    "Welcome to the basics of Python Syntax and Semantics! In this section, we'll cover:\n",
    "\n",
    "- What is syntax?\n",
    "- What is semantics?\n",
    "- Core concepts like indentation, case sensitivity, statements, and more.\n",
    "\n",
    "---\n",
    "\n",
    "## What is Syntax?\n",
    "\n",
    "Syntax refers to the structure of the code: the rules you must follow when writing Python. This includes the way keywords, operators, and other elements are arranged.\n",
    "\n",
    "---\n",
    "\n",
    "## What is Semantics?\n",
    "\n",
    "Semantics refers to the meaning of the code: what happens when the code runs.\n",
    "\n",
    "- Syntax is the **how to write it**.\n",
    "- Semantics is the **what it does**.\n",
    "\n",
    "---\n",
    "\n",
    "## 1. Indentation\n",
    "\n",
    "Python uses indentation to define blocks of code, such as the body of a function or a loop. This is different from many other languages that use braces (`{}`).\n",
    "\n",
    "### Example:\n"
   ]
  },
  {
   "cell_type": "code",
   "execution_count": 3,
   "metadata": {},
   "outputs": [
    {
     "name": "stdout",
     "output_type": "stream",
     "text": [
      "This is indented correctly.\n"
     ]
    }
   ],
   "source": [
    "# Correct indentation\n",
    "if True:\n",
    "    print(\"This is indented correctly.\")\n",
    "\n",
    "# Incorrect indentation will throw an error\n",
    "# Uncomment the code below to see the error\n",
    "# if True:\n",
    "# print(\"This will raise an IndentationError.\")"
   ]
  },
  {
   "cell_type": "markdown",
   "metadata": {},
   "source": [
    "## 2. Case Sensitivity\n",
    "\n",
    "Python is case-sensitive, meaning `MyVariable` and `myvariable` are different.\n"
   ]
  },
  {
   "cell_type": "code",
   "execution_count": 4,
   "metadata": {},
   "outputs": [
    {
     "name": "stdout",
     "output_type": "stream",
     "text": [
      "10\n",
      "20\n"
     ]
    }
   ],
   "source": [
    "variable = 10\n",
    "Variable = 20\n",
    "print(variable)  # Outputs: 10\n",
    "print(Variable)  # Outputs: 20"
   ]
  },
  {
   "cell_type": "markdown",
   "metadata": {},
   "source": [
    "## 3. Statements and Line Continuation\n",
    "\n",
    "- A **statement** in Python is a single line of code that performs an action.\n",
    "- Long statements can be split into multiple lines using a backslash (`\\`) or parentheses.\n"
   ]
  },
  {
   "cell_type": "code",
   "execution_count": 2,
   "metadata": {},
   "outputs": [
    {
     "name": "stdout",
     "output_type": "stream",
     "text": [
      "8 100 100\n"
     ]
    }
   ],
   "source": [
    "# Single-line statement\n",
    "x = 5 + 3\n",
    "\n",
    "# Multi-line statement using a backslash\n",
    "y = 10 + 20 + \\\n",
    "    30 + 40\n",
    "\n",
    "# Multi-line statement using parentheses (preferred)\n",
    "z = (10 + 20 +\n",
    "     30 + 40)\n",
    "\n",
    "print(x, y, z)"
   ]
  },
  {
   "cell_type": "markdown",
   "metadata": {},
   "source": [
    "## 4. Comments\n",
    "\n",
    "- Use the `#` symbol for single-line comments.\n",
    "- Use triple quotes (`\"\"\"` or `'''`) for multi-line comments or docstrings.\n"
   ]
  },
  {
   "cell_type": "code",
   "execution_count": 3,
   "metadata": {},
   "outputs": [
    {
     "name": "stdout",
     "output_type": "stream",
     "text": [
      "Hello!\n"
     ]
    }
   ],
   "source": [
    "# This is a single-line comment\n",
    "x = 5  # Inline comment\n",
    "\n",
    "\"\"\"\n",
    "This is a multi-line comment\n",
    "or a docstring.\n",
    "\"\"\"\n",
    "def greet():\n",
    "    \"\"\"This is a docstring for the greet function.\"\"\"\n",
    "    print(\"Hello!\")\n",
    "\n",
    "greet()\n"
   ]
  },
  {
   "cell_type": "markdown",
   "metadata": {},
   "source": [
    "## 5. Whitespace\n",
    "\n",
    "Python is whitespace-sensitive:\n",
    "- Whitespace before code (indentation) is required.\n",
    "- Whitespace within a line is ignored but can improve readability.\n"
   ]
  },
  {
   "cell_type": "code",
   "execution_count": 4,
   "metadata": {},
   "outputs": [
    {
     "name": "stdout",
     "output_type": "stream",
     "text": [
      "8 8\n"
     ]
    }
   ],
   "source": [
    "x = 5 + 3  # Correct\n",
    "y=5+3      # Still valid, but less readable\n",
    "\n",
    "print(x, y)\n"
   ]
  },
  {
   "cell_type": "markdown",
   "metadata": {},
   "source": [
    "## 6. Keywords\n",
    "\n",
    "Python has reserved words (keywords) that cannot be used as variable names.\n",
    "\n",
    "### Common Keywords:\n",
    "`if`, `else`, `for`, `while`, `def`, `class`, `return`, `import`, etc.\n"
   ]
  },
  {
   "cell_type": "code",
   "execution_count": 5,
   "metadata": {},
   "outputs": [
    {
     "name": "stdout",
     "output_type": "stream",
     "text": [
      "['False', 'None', 'True', 'and', 'as', 'assert', 'async', 'await', 'break', 'class', 'continue', 'def', 'del', 'elif', 'else', 'except', 'finally', 'for', 'from', 'global', 'if', 'import', 'in', 'is', 'lambda', 'nonlocal', 'not', 'or', 'pass', 'raise', 'return', 'try', 'while', 'with', 'yield']\n"
     ]
    }
   ],
   "source": [
    "# This will raise an error because \"if\" is a keyword\n",
    "# Uncomment the code below to see the error\n",
    "# if = 10\n",
    "\n",
    "# List all Python keywords\n",
    "import keyword\n",
    "print(keyword.kwlist)\n"
   ]
  },
  {
   "cell_type": "markdown",
   "metadata": {},
   "source": [
    "## 7. Dynamic Typing\n",
    "\n",
    "Python is dynamically typed, so you don’t need to declare the type of a variable explicitly.\n"
   ]
  },
  {
   "cell_type": "code",
   "execution_count": 6,
   "metadata": {},
   "outputs": [
    {
     "name": "stdout",
     "output_type": "stream",
     "text": [
      "Hello\n"
     ]
    }
   ],
   "source": [
    "x = 10  # Integer\n",
    "x = \"Hello\"  # Now a string\n",
    "print(x)  # Outputs: Hello\n"
   ]
  },
  {
   "cell_type": "markdown",
   "metadata": {},
   "source": []
  },
  {
   "cell_type": "code",
   "execution_count": null,
   "metadata": {},
   "outputs": [],
   "source": []
  }
 ],
 "metadata": {
  "kernelspec": {
   "display_name": "teaching_env",
   "language": "python",
   "name": "python3"
  },
  "language_info": {
   "codemirror_mode": {
    "name": "ipython",
    "version": 3
   },
   "file_extension": ".py",
   "mimetype": "text/x-python",
   "name": "python",
   "nbconvert_exporter": "python",
   "pygments_lexer": "ipython3",
   "version": "3.13.1"
  }
 },
 "nbformat": 4,
 "nbformat_minor": 2
}
