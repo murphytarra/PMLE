{
 "cells": [
  {
   "cell_type": "markdown",
   "metadata": {},
   "source": [
    "# Inputs and Outputs in Python\n",
    "\n",
    "Python provides powerful and flexible methods for taking inputs and displaying outputs. In this section, we will cover:\n",
    "\n",
    "- Taking user inputs using `input()`.\n",
    "- Displaying outputs using `print()`.\n",
    "- Formatting outputs for better readability."
   ]
  },
  {
   "cell_type": "markdown",
   "metadata": {},
   "source": [
    "## 1. Taking User Inputs\n",
    "\n",
    "The `input()` function is used to capture user input as a string. By default, everything entered is treated as a string.\n",
    "\n",
    "### Syntax:\n",
    "```python\n",
    "input(prompt)\n",
    "```\n",
    "- `prompt` is an optional string displayed to the user.\n",
    "- The input is always returned as a string. You can convert it to other data types as needed."
   ]
  },
  {
   "cell_type": "code",
   "execution_count": 1,
   "metadata": {},
   "outputs": [
    {
     "name": "stdout",
     "output_type": "stream",
     "text": [
      "Hello, Tara!\n",
      "You are 18 years old.\n"
     ]
    }
   ],
   "source": [
    "# Simple input example\n",
    "name = input(\"Enter your name: \")\n",
    "print(f\"Hello, {name}!\")\n",
    "\n",
    "# Converting input to integer\n",
    "age = int(input(\"Enter your age: \"))\n",
    "print(f\"You are {age} years old.\")"
   ]
  },
  {
   "cell_type": "markdown",
   "metadata": {},
   "source": [
    "## Common Pitfall with `input()`\n",
    "\n",
    "If you forget to convert the input when expecting numbers, it may cause issues during operations.\n",
    "\n",
    "### Example:"
   ]
  },
  {
   "cell_type": "code",
   "execution_count": 2,
   "metadata": {},
   "outputs": [
    {
     "name": "stdout",
     "output_type": "stream",
     "text": [
      "Result (without conversion): 23\n",
      "Result (after conversion): 3\n"
     ]
    }
   ],
   "source": [
    "# Without conversion\n",
    "num1 = input(\"Enter a number: \")\n",
    "num2 = input(\"Enter another number: \")\n",
    "result = num1 + num2  # This concatenates the strings, instead of adding numbers\n",
    "print(f\"Result (without conversion): {result}\")\n",
    "\n",
    "# Corrected version\n",
    "num1 = int(input(\"Enter a number: \"))\n",
    "num2 = int(input(\"Enter another number: \"))\n",
    "result = num1 + num2\n",
    "print(f\"Result (after conversion): {result}\")"
   ]
  },
  {
   "cell_type": "markdown",
   "metadata": {},
   "source": [
    "## 2. Displaying Outputs\n",
    "\n",
    "Python uses the `print()` function to display information to the console.\n",
    "\n",
    "### Syntax:\n",
    "```python\n",
    "print(*objects, sep=' ', end='\\n', file=sys.stdout, flush=False)\n",
    "```\n",
    "- `*objects`: Any number of objects to be printed.\n",
    "- `sep`: Separator between the objects (default is a space).\n",
    "- `end`: String appended after the last object (default is a newline).\n",
    "- `file`: Output file or stream (default is `sys.stdout`).\n",
    "- `flush`: Force the output to be flushed.\n",
    "\n",
    "Let’s explore these parameters in more detail."
   ]
  },
  {
   "cell_type": "code",
   "execution_count": 3,
   "metadata": {},
   "outputs": [
    {
     "name": "stdout",
     "output_type": "stream",
     "text": [
      "Hello World Python\n",
      "Python---is---fun\n",
      "Hello, World!\n"
     ]
    }
   ],
   "source": [
    "# Printing multiple items\n",
    "print(\"Hello\", \"World\", \"Python\")\n",
    "\n",
    "# Custom separator\n",
    "print(\"Python\", \"is\", \"fun\", sep=\"---\")\n",
    "\n",
    "# Custom end string\n",
    "print(\"Hello\", end=\", \")\n",
    "print(\"World!\")\n",
    "\n",
    "# Printing to a file\n",
    "with open(\"output.txt\", \"w\") as f:\n",
    "    print(\"This is written to a file.\", file=f)"
   ]
  },
  {
   "cell_type": "markdown",
   "metadata": {},
   "source": [
    "## 3. String Formatting\n",
    "\n",
    "Python provides multiple ways to format strings:\n",
    "\n",
    "1. **Concatenation**: Combine strings using the `+` operator.\n",
    "2. **Old-style formatting**: Use the `%` operator.\n",
    "3. **`str.format()` method**: A more modern approach.\n",
    "4. **F-strings (formatted string literals)**: Introduced in Python 3.6, a concise and powerful method.\n",
    "\n",
    "Let’s look at each in detail."
   ]
  },
  {
   "cell_type": "code",
   "execution_count": 4,
   "metadata": {},
   "outputs": [
    {
     "name": "stdout",
     "output_type": "stream",
     "text": [
      "Hello, Alice!\n",
      "My name is Alice and I am 25 years old.\n",
      "My name is Alice and I am 25 years old.\n",
      "My name is Alice and I am 25 years old.\n"
     ]
    }
   ],
   "source": [
    "# 1. Concatenation\n",
    "name = \"Alice\"\n",
    "greeting = \"Hello, \" + name + \"!\"\n",
    "print(greeting)\n",
    "\n",
    "# 2. Old-style formatting\n",
    "age = 25\n",
    "print(\"My name is %s and I am %d years old.\" % (name, age))\n",
    "\n",
    "# 3. str.format() method\n",
    "print(\"My name is {} and I am {} years old.\".format(name, age))\n",
    "\n",
    "# 4. F-strings\n",
    "print(f\"My name is {name} and I am {age} years old.\")"
   ]
  },
  {
   "cell_type": "markdown",
   "metadata": {},
   "source": [
    "## Advanced String Formatting\n",
    "\n",
    "Python supports advanced formatting options with the `str.format()` method and f-strings.\n",
    "\n",
    "### Example:\n",
    "- Align text (`<`, `>`, `^`).\n",
    "- Control decimal precision.\n",
    "- Add thousands separators.\n",
    "- Use dynamic expressions."
   ]
  },
  {
   "cell_type": "code",
   "execution_count": 5,
   "metadata": {},
   "outputs": [
    {
     "name": "stdout",
     "output_type": "stream",
     "text": [
      "Left         Center        Right\n",
      "Value of pi (default): 3.141592653589793\n",
      "Value of pi (3 decimals): 3.142\n",
      "Number with separator: 123,456,789\n",
      "The sum of 5 and 10 is 15.\n"
     ]
    }
   ],
   "source": [
    "# Text alignment\n",
    "print(\"{:<10} {:^10} {:>10}\".format(\"Left\", \"Center\", \"Right\"))\n",
    "\n",
    "# Decimal precision\n",
    "pi = 3.141592653589793\n",
    "print(f\"Value of pi (default): {pi}\")\n",
    "print(f\"Value of pi (3 decimals): {pi:.3f}\")\n",
    "\n",
    "# Thousands separator\n",
    "num = 123456789\n",
    "print(f\"Number with separator: {num:,}\")\n",
    "\n",
    "# Dynamic expressions\n",
    "x, y = 5, 10\n",
    "print(f\"The sum of {x} and {y} is {x + y}.\")"
   ]
  },
  {
   "cell_type": "markdown",
   "metadata": {},
   "source": [
    "# Practice Exercise: The Chemical Reaction Simulator\n",
    "\n",
    "## Introduction\n",
    "This exercise involves creating a program to simulate a basic chemical reaction analysis. The program will prompt the user for input, perform calculations based on scientific principles, and display the results in a clean, professional format.\n",
    "\n",
    "---\n",
    "\n",
    "## Part 1: Reaction Identification\n",
    "1. Prompt the user to enter:\n",
    "   - The **name of the reactant**.\n",
    "   - The **name of the product** formed in a chemical reaction.\n",
    "   - The **mass of the reactant** (in grams).\n",
    "2. Display a confirmation of the inputs:\n",
    "      ```\n",
    "      Reaction: [Reactant] → [Product]\n",
    "      Reactant Mass: [Mass] grams\n",
    "\n",
    "      ```\n",
    "\n",
    "---\n",
    "\n",
    "## Part 2: Reaction Yield Calculation\n",
    "1. Prompt the user to input:\n",
    "- The **molar mass of the reactant** (g/mol).\n",
    "- The **molar mass of the product** (g/mol).\n",
    "- The **reaction yield percentage** (a value between 0 and 100).\n",
    "2. Perform the following calculations:\n",
    "- **Moles of Reactant**:\n",
    "  ```\n",
    "  Moles of Reactant = Reactant Mass ÷ Molar Mass of Reactant\n",
    "  ```\n",
    "- **Theoretical Mass of Product**:\n",
    "  ```\n",
    "  Theoretical Mass of Product = Moles of Reactant × Molar Mass of Product\n",
    "  ```\n",
    "- **Actual Mass of Product**:\n",
    "  ```\n",
    "  Actual Mass of Product = Theoretical Mass of Product × (Yield Percentage ÷ 100)\n",
    "  ```\n",
    "3. Display the results:\n",
    "\n",
    "   ```\n",
    "   Reaction Analysis:\n",
    "   ------------------------------\n",
    "   Moles of Reactant:       2.50 mol\n",
    "   Theoretical Product Mass:  50.00 g\n",
    "   Actual Product Mass:      40.00 g\n",
    "\n",
    "\n",
    "   ```\n",
    "\n"
   ]
  },
  {
   "cell_type": "markdown",
   "metadata": {},
   "source": []
  },
  {
   "cell_type": "code",
   "execution_count": null,
   "metadata": {},
   "outputs": [],
   "source": []
  }
 ],
 "metadata": {
  "kernelspec": {
   "display_name": "teaching_env",
   "language": "python",
   "name": "python3"
  },
  "language_info": {
   "codemirror_mode": {
    "name": "ipython",
    "version": 3
   },
   "file_extension": ".py",
   "mimetype": "text/x-python",
   "name": "python",
   "nbconvert_exporter": "python",
   "pygments_lexer": "ipython3",
   "version": "3.13.1"
  }
 },
 "nbformat": 4,
 "nbformat_minor": 4
}
