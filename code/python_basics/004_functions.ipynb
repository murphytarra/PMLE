{
 "cells": [
  {
   "cell_type": "markdown",
   "metadata": {},
   "source": [
    "# Understanding Functions in Python\n",
    "\n",
    "Functions are one of the core building blocks of Python programming. They allow you to write reusable, modular, and maintainable code.\n",
    "\n",
    "### What You'll Learn:\n",
    "- Why functions are useful.\n",
    "- How to define and use functions.\n",
    "- Good practices such as docstrings and organization.\n",
    "- The importance of type casting.\n",
    "- Additional tips and tricks."
   ]
  },
  {
   "cell_type": "markdown",
   "metadata": {},
   "source": [
    "## 1. Why Are Functions Useful?\n",
    "\n",
    "Functions help to:\n",
    "- Avoid code repetition by reusing blocks of code.\n",
    "- Improve readability and organization.\n",
    "- Break down complex problems into smaller, manageable parts.\n",
    "- Facilitate testing and debugging.\n",
    "\n",
    "### Example of Reusability:"
   ]
  },
  {
   "cell_type": "code",
   "execution_count": null,
   "metadata": {},
   "outputs": [],
   "source": [
    "# Without functions (repeated code):\n",
    "print(\"Area of rectangle 1:\", 5 * 10)\n",
    "print(\"Area of rectangle 2:\", 3 * 7)\n",
    "\n",
    "# With functions:\n",
    "def calculate_area(length, width):\n",
    "    return length * width\n",
    "\n",
    "print(\"Area of rectangle 1:\", calculate_area(5, 10))\n",
    "print(\"Area of rectangle 2:\", calculate_area(3, 7))"
   ]
  },
  {
   "cell_type": "markdown",
   "metadata": {},
   "source": [
    "## 2. Defining and Using Functions\n",
    "\n",
    "Functions in Python are defined using the `def` keyword.\n",
    "\n",
    "### Syntax:\n",
    "```python\n",
    "def function_name(parameters):\n",
    "    \"\"\"Optional docstring\"\"\"\n",
    "    # Function body\n",
    "    return result\n",
    "```\n",
    "\n",
    "### Example:"
   ]
  },
  {
   "cell_type": "code",
   "execution_count": null,
   "metadata": {},
   "outputs": [],
   "source": [
    "def greet(name):\n",
    "    return f\"Hello, {name}!\"\n",
    "\n",
    "print(greet(\"Alice\"))\n",
    "print(greet(\"Bob\"))"
   ]
  },
  {
   "cell_type": "markdown",
   "metadata": {},
   "source": [
    "### Key Points:\n",
    "- Use descriptive names for your functions.\n",
    "- Include parameters to make functions flexible.\n",
    "- Use a `return` statement to send results back to the caller."
   ]
  },
  {
   "cell_type": "markdown",
   "metadata": {},
   "source": [
    "## 3. Good Practices for Functions\n",
    "\n",
    "### 3.1 Use Docstrings\n",
    "Docstrings are used to describe the purpose, inputs, and outputs of a function.\n",
    "\n",
    "### Example:"
   ]
  },
  {
   "cell_type": "code",
   "execution_count": null,
   "metadata": {},
   "outputs": [],
   "source": [
    "def add(a, b):\n",
    "    \"\"\"\n",
    "    Add two numbers and return the result.\n",
    "    \n",
    "    Parameters:\n",
    "        a (int or float): The first number.\n",
    "        b (int or float): The second number.\n",
    "    \n",
    "    Returns:\n",
    "        int or float: The sum of a and b.\n",
    "    \"\"\"\n",
    "    return a + b\n",
    "\n",
    "help(add)  # View the docstring"
   ]
  },
  {
   "cell_type": "markdown",
   "metadata": {},
   "source": [
    "### 3.2 Keep Functions Short and Focused\n",
    "- Each function should do one thing and do it well.\n",
    "- If a function is too long, consider breaking it into smaller helper functions."
   ]
  },
  {
   "cell_type": "markdown",
   "metadata": {},
   "source": [
    "### 3.3 Store Functions in Modules (We'll get to this more later on!)\n",
    "To organize your code, store related functions in separate `.py` files (modules). Import them when needed.\n",
    "\n",
    "### Example:\n",
    "1. Create a file named `math_utils.py` with the following content:\n",
    "    ```python\n",
    "    def square(num):\n",
    "        return num ** 2\n",
    "\n",
    "    def cube(num):\n",
    "        return num ** 3\n",
    "    ```\n",
    "\n",
    "2. Import the functions in your script:\n",
    "    ```python\n",
    "    from math_utils import square, cube\n",
    "    print(square(3))  # Outputs: 9\n",
    "    print(cube(2))    # Outputs: 8\n",
    "    ```"
   ]
  },
  {
   "cell_type": "markdown",
   "metadata": {},
   "source": [
    "## 4. Additional Tips and Tricks\n",
    "\n",
    "- Use **default arguments** to provide fallback values.\n",
    "- Use **`*args` and `**kwargs`** for flexible function arguments."
   ]
  },
  {
   "cell_type": "code",
   "execution_count": 1,
   "metadata": {},
   "outputs": [
    {
     "name": "stdout",
     "output_type": "stream",
     "text": [
      "Hello, Alice!\n",
      "Hi, Bob!\n",
      "Positional arguments: (1, 2, 3)\n",
      "Keyword arguments: {'name': 'Alice', 'age': 30}\n"
     ]
    }
   ],
   "source": [
    "# Default arguments\n",
    "def greet(name, greeting=\"Hello\"):\n",
    "    return f\"{greeting}, {name}!\"\n",
    "\n",
    "print(greet(\"Alice\"))\n",
    "print(greet(\"Bob\", \"Hi\"))\n",
    "\n",
    "# *args and **kwargs\n",
    "def flexible_function(*args, **kwargs):\n",
    "    print(\"Positional arguments:\", args)\n",
    "    print(\"Keyword arguments:\", kwargs)\n",
    "\n",
    "flexible_function(1, 2, 3, name=\"Alice\", age=30)"
   ]
  },
  {
   "cell_type": "markdown",
   "metadata": {},
   "source": [
    "## Exercises\n",
    "\n",
    "1. Write a function to calculate the factorial of a number.\n",
    "2. Write a function that accepts a list of numbers and returns a dictionary with their squares.\n",
    "3. Create a file `string_utils.py` with functions to:\n",
    "   - Convert a string to uppercase.\n",
    "   - Count the vowels in a string.\n",
    "   - Import these functions into your main script and test them."
   ]
  },
  {
   "cell_type": "code",
   "execution_count": 2,
   "metadata": {},
   "outputs": [],
   "source": [
    "# Exercises here"
   ]
  },
  {
   "cell_type": "code",
   "execution_count": null,
   "metadata": {},
   "outputs": [],
   "source": []
  }
 ],
 "metadata": {
  "kernelspec": {
   "display_name": "teaching_env",
   "language": "python",
   "name": "python3"
  },
  "language_info": {
   "codemirror_mode": {
    "name": "ipython",
    "version": 3
   },
   "file_extension": ".py",
   "mimetype": "text/x-python",
   "name": "python",
   "nbconvert_exporter": "python",
   "pygments_lexer": "ipython3",
   "version": "3.13.1"
  }
 },
 "nbformat": 4,
 "nbformat_minor": 4
}
