{
 "cells": [
  {
   "cell_type": "markdown",
   "metadata": {},
   "source": [
    "# Python Exception Handling: A Comprehensive Guide\n",
    "\n",
    "Exception handling is a critical concept in programming that allows developers to gracefully handle errors and prevent program crashes.\n",
    "\n",
    "### What You'll Learn:\n",
    "- Exception Handling Basics\n",
    "- `try` and `except` Blocks\n",
    "- Built-in Exceptions\n",
    "- User-defined Exceptions"
   ]
  },
  {
   "cell_type": "markdown",
   "metadata": {},
   "source": [
    "## 1. What is Exception Handling?\n",
    "\n",
    "An exception is an event that disrupts the normal flow of a program. Exceptions occur during runtime and need to be handled to avoid unexpected crashes.\n",
    "\n",
    "### Common Exceptions:\n",
    "- `ZeroDivisionError`: Division by zero.\n",
    "- `TypeError`: Operation on incompatible types.\n",
    "- `ValueError`: Invalid value for an operation.\n",
    "\n",
    "### Example (Without Handling):"
   ]
  },
  {
   "cell_type": "code",
   "execution_count": null,
   "metadata": {},
   "outputs": [],
   "source": [
    "# Example without exception handling\n",
    "num = 10\n",
    "denominator = 0\n",
    "result = num / denominator  # This will raise ZeroDivisionError\n",
    "print(\"Result:\", result)"
   ]
  },
  {
   "cell_type": "markdown",
   "metadata": {},
   "source": [
    "### Why Exception Handling is Important:\n",
    "- Prevents program crashes.\n",
    "- Provides meaningful feedback to users.\n",
    "- Allows recovery from errors to continue execution."
   ]
  },
  {
   "cell_type": "markdown",
   "metadata": {},
   "source": [
    "## 2. `try` and `except` Blocks\n",
    "\n",
    "The `try` block lets you test a block of code for errors. The `except` block lets you handle the error.\n",
    "\n",
    "### Syntax:\n",
    "```python\n",
    "try:\n",
    "    # Code that might raise an exception\n",
    "except ExceptionType:\n",
    "    # Code to handle the exception\n",
    "```\n",
    "\n",
    "### Example:"
   ]
  },
  {
   "cell_type": "code",
   "execution_count": null,
   "metadata": {},
   "outputs": [],
   "source": [
    "# Handling ZeroDivisionError\n",
    "try:\n",
    "    num = 10\n",
    "    denominator = 0\n",
    "    result = num / denominator\n",
    "except ZeroDivisionError:\n",
    "    print(\"Cannot divide by zero!\")"
   ]
  },
  {
   "cell_type": "markdown",
   "metadata": {},
   "source": [
    "### Multiple Exceptions\n",
    "You can handle multiple exceptions using separate `except` blocks or a tuple.\n",
    "\n",
    "### Example:"
   ]
  },
  {
   "cell_type": "code",
   "execution_count": null,
   "metadata": {},
   "outputs": [],
   "source": [
    "try:\n",
    "    value = int(\"abc\")\n",
    "    result = 10 / 0\n",
    "except ValueError:\n",
    "    print(\"Invalid input! Please enter a number.\")\n",
    "except ZeroDivisionError:\n",
    "    print(\"Cannot divide by zero!\")"
   ]
  },
  {
   "cell_type": "markdown",
   "metadata": {},
   "source": [
    "### Using `else` and `finally`:\n",
    "- `else`: Executes if no exceptions occur.\n",
    "- `finally`: Executes no matter what, often used for cleanup.\n",
    "\n",
    "### Example:"
   ]
  },
  {
   "cell_type": "code",
   "execution_count": null,
   "metadata": {},
   "outputs": [],
   "source": [
    "try:\n",
    "    result = 10 / 2\n",
    "except ZeroDivisionError:\n",
    "    print(\"Cannot divide by zero!\")\n",
    "else:\n",
    "    print(\"Division successful! Result:\", result)\n",
    "finally:\n",
    "    print(\"Execution complete.\")"
   ]
  },
  {
   "cell_type": "markdown",
   "metadata": {},
   "source": [
    "## 3. Built-in Exceptions\n",
    "\n",
    "Python provides many built-in exceptions for common error scenarios. These can be handled using `try` and `except` blocks.\n",
    "\n",
    "### Common Built-in Exceptions:\n",
    "- `IndexError`: Accessing an index that is out of range.\n",
    "- `KeyError`: Accessing a non-existent key in a dictionary.\n",
    "- `FileNotFoundError`: Attempting to open a file that doesn’t exist.\n",
    "\n",
    "### Example:"
   ]
  },
  {
   "cell_type": "code",
   "execution_count": null,
   "metadata": {},
   "outputs": [],
   "source": [
    "# Example: Handling KeyError\n",
    "my_dict = {\"name\": \"Alice\"}\n",
    "try:\n",
    "    print(my_dict[\"age\"])\n",
    "except KeyError:\n",
    "    print(\"Key does not exist!\")"
   ]
  },
  {
   "cell_type": "markdown",
   "metadata": {},
   "source": [
    "### Exercise:\n",
    "1. Write a program to handle `FileNotFoundError` when trying to open a non-existent file.\n",
    "2. Write a program to handle `IndexError` when accessing an out-of-range index in a list."
   ]
  },
  {
   "cell_type": "code",
   "execution_count": null,
   "metadata": {},
   "outputs": [],
   "source": [
    "# exercises here"
   ]
  },
  {
   "cell_type": "markdown",
   "metadata": {},
   "source": [
    "## 4. User-defined Exceptions\n",
    "\n",
    "Python allows you to create custom exceptions by subclassing the `Exception` class.\n",
    "\n",
    "### Syntax:\n",
    "```python\n",
    "class CustomException(Exception):\n",
    "    pass\n",
    "```\n",
    "\n",
    "### Example:"
   ]
  },
  {
   "cell_type": "code",
   "execution_count": null,
   "metadata": {},
   "outputs": [],
   "source": [
    "class NegativeValueError(Exception):\n",
    "    \"\"\"Custom exception for negative values.\"\"\"\n",
    "    pass\n",
    "\n",
    "def check_positive(value):\n",
    "    if value < 0:\n",
    "        raise NegativeValueError(\"Value cannot be negative!\")\n",
    "    return value\n",
    "\n",
    "try:\n",
    "    num = -5\n",
    "    print(check_positive(num))\n",
    "except NegativeValueError as e:\n",
    "    print(\"Error:\", e)"
   ]
  },
  {
   "cell_type": "markdown",
   "metadata": {},
   "source": [
    "### Key Points:\n",
    "- User-defined exceptions make error messages more specific.\n",
    "- Subclass `Exception` to define your own exceptions.\n",
    "\n",
    "### Exercise:\n",
    "Create a custom exception `TooLargeError` to handle values greater than 100."
   ]
  },
  {
   "cell_type": "code",
   "execution_count": null,
   "metadata": {},
   "outputs": [],
   "source": [
    "# Exercise: TooLargeError"
   ]
  },
  {
   "cell_type": "markdown",
   "metadata": {},
   "source": [
    "## Summary\n",
    "\n",
    "In this notebook, we covered:\n",
    "- The basics of exception handling.\n",
    "- Using `try`, `except`, `else`, and `finally` blocks.\n",
    "- Handling built-in exceptions like `ZeroDivisionError`, `KeyError`, etc.\n",
    "- Creating user-defined exceptions for specific use cases.\n",
    "\n",
    "### Exercises:\n",
    "1. Write a program to handle both `ValueError` and `ZeroDivisionError` in a single block.\n",
    "2. Create a custom exception `OutOfStockError` for an inventory management system."
   ]
  }
 ],
 "metadata": {
  "kernelspec": {
   "display_name": "Python 3",
   "language": "python",
   "name": "python3"
  },
  "language_info": {
   "name": "python",
   "version": "3.8.10"
  }
 },
 "nbformat": 4,
 "nbformat_minor": 4
}
