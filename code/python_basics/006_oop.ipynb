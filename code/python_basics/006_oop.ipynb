{
 "cells": [
  {
   "cell_type": "markdown",
   "metadata": {},
   "source": [
    "# Python Classes: A Comprehensive Guide\n",
    "\n",
    "Python is an object-oriented programming language that allows you to create and work with classes and objects. This notebook explores everything you need to know about classes, including advanced topics.\n",
    "\n",
    "### What You'll Learn:\n",
    "- Classes and Objects\n",
    "- Polymorphism\n",
    "- Inheritance\n",
    "- Abstract Classes\n",
    "- Encapsulation\n",
    "- Iterators\n"
   ]
  },
  {
   "cell_type": "markdown",
   "metadata": {},
   "source": [
    "## 1. Classes and Objects\n",
    "\n",
    "A class is a blueprint for creating objects. An object is an instance of a class. Classes encapsulate data (attributes) and behavior (methods).\n",
    "\n",
    "### Syntax:\n",
    "```python\n",
    "class ClassName:\n",
    "    def __init__(self, parameters):\n",
    "        self.attribute = value\n",
    "\n",
    "    def method(self):\n",
    "        pass\n",
    "```\n",
    "\n",
    "### Example:"
   ]
  },
  {
   "cell_type": "code",
   "execution_count": null,
   "metadata": {},
   "outputs": [],
   "source": [
    "# Define a class\n",
    "class Person:\n",
    "    def __init__(self, name, age):\n",
    "        self.name = name\n",
    "        self.age = age\n",
    "\n",
    "    def greet(self):\n",
    "        return f\"Hello, my name is {self.name} and I am {self.age} years old.\"\n",
    "\n",
    "# Create an object\n",
    "person = Person(\"Alice\", 30)\n",
    "print(person.greet())"
   ]
  },
  {
   "cell_type": "markdown",
   "metadata": {},
   "source": [
    "### Key Points:\n",
    "- The `__init__` method initializes attributes for an object.\n",
    "- Use `self` to refer to the instance.\n",
    "- Methods define the behavior of the object."
   ]
  },
  {
   "cell_type": "code",
   "execution_count": null,
   "metadata": {},
   "outputs": [],
   "source": [
    "# Can you come up with a class here?\n"
   ]
  },
  {
   "cell_type": "markdown",
   "metadata": {},
   "source": [
    "## 2. Polymorphism\n",
    "\n",
    "Polymorphism allows methods in different classes to have the same name but behave differently based on the object.\n",
    "\n",
    "### Example:"
   ]
  },
  {
   "cell_type": "code",
   "execution_count": null,
   "metadata": {},
   "outputs": [],
   "source": [
    "class Dog:\n",
    "    def speak(self):\n",
    "        return \"Woof!\"\n",
    "\n",
    "class Cat:\n",
    "    def speak(self):\n",
    "        return \"Meow!\"\n",
    "\n",
    "animals = [Dog(), Cat()]\n",
    "for animal in animals:\n",
    "    print(animal.speak())"
   ]
  },
  {
   "cell_type": "markdown",
   "metadata": {},
   "source": [
    "### Key Points:\n",
    "- Polymorphism enables writing more generic and reusable code.\n",
    "- Objects of different types can be treated uniformly."
   ]
  },
  {
   "cell_type": "markdown",
   "metadata": {},
   "source": [
    "## 3. Inheritance\n",
    "\n",
    "Inheritance allows one class (child class) to inherit the attributes and methods of another class (parent class).\n",
    "\n",
    "### Syntax:\n",
    "```python\n",
    "class ChildClass(ParentClass):\n",
    "    pass\n",
    "```\n",
    "\n",
    "### Example:"
   ]
  },
  {
   "cell_type": "code",
   "execution_count": null,
   "metadata": {},
   "outputs": [],
   "source": [
    "class Animal:\n",
    "    def __init__(self, name):\n",
    "        self.name = name\n",
    "\n",
    "    def speak(self):\n",
    "        return \"I make a sound.\"\n",
    "\n",
    "class Dog(Animal):\n",
    "    def speak(self):\n",
    "        return \"Woof!\"\n",
    "\n",
    "dog = Dog(\"Buddy\")\n",
    "print(dog.name)  # Inherited attribute\n",
    "print(dog.speak())  # Overridden method"
   ]
  },
  {
   "cell_type": "markdown",
   "metadata": {},
   "source": [
    "### Key Points:\n",
    "- Child classes inherit attributes and methods from the parent class.\n",
    "- Methods can be overridden in the child class.\n",
    "- Use `super()` to call the parent class’s methods."
   ]
  },
  {
   "cell_type": "markdown",
   "metadata": {},
   "source": [
    "## 4. Abstract Classes\n",
    "\n",
    "Abstract classes serve as templates for other classes. They cannot be instantiated directly and must be subclassed.\n",
    "\n",
    "### Syntax:\n",
    "```python\n",
    "from abc import ABC, abstractmethod\n",
    "\n",
    "class AbstractClass(ABC):\n",
    "    @abstractmethod\n",
    "    def abstract_method(self):\n",
    "        pass\n",
    "```\n",
    "\n",
    "### Example:"
   ]
  },
  {
   "cell_type": "code",
   "execution_count": null,
   "metadata": {},
   "outputs": [],
   "source": [
    "from abc import ABC, abstractmethod\n",
    "\n",
    "class Animal(ABC):\n",
    "    @abstractmethod\n",
    "    def speak(self):\n",
    "        pass\n",
    "\n",
    "class Dog(Animal):\n",
    "    def speak(self):\n",
    "        return \"Woof!\"\n",
    "\n",
    "# Uncommenting the line below will raise an error\n",
    "# animal = Animal()\n",
    "\n",
    "dog = Dog()\n",
    "print(dog.speak())"
   ]
  },
  {
   "cell_type": "markdown",
   "metadata": {},
   "source": [
    "### Key Points:\n",
    "- Abstract classes define a common interface for all subclasses.\n",
    "- They ensure that derived classes implement specific methods."
   ]
  },
  {
   "cell_type": "markdown",
   "metadata": {},
   "source": [
    "## 5. Encapsulation\n",
    "\n",
    "Encapsulation restricts access to certain attributes or methods, ensuring that they can only be accessed or modified in controlled ways.\n",
    "\n",
    "### Syntax for Private Attributes:\n",
    "- Use `_` for protected attributes (suggests limited access).\n",
    "- Use `__` for private attributes (enforces limited access).\n",
    "\n",
    "### Example:"
   ]
  },
  {
   "cell_type": "code",
   "execution_count": null,
   "metadata": {},
   "outputs": [],
   "source": [
    "class BankAccount:\n",
    "    def __init__(self, balance):\n",
    "        self.__balance = balance  # Private attribute\n",
    "\n",
    "    def deposit(self, amount):\n",
    "        self.__balance += amount\n",
    "\n",
    "    def get_balance(self):\n",
    "        return self.__balance\n",
    "\n",
    "account = BankAccount(1000)\n",
    "account.deposit(500)\n",
    "print(\"Balance:\", account.get_balance())"
   ]
  },
  {
   "cell_type": "markdown",
   "metadata": {},
   "source": [
    "### Key Points:\n",
    "- Use private attributes to hide sensitive data.\n",
    "- Provide public methods to access or modify private attributes."
   ]
  },
  {
   "cell_type": "markdown",
   "metadata": {},
   "source": [
    "## 6. Iterators\n",
    "\n",
    "An iterator is an object that can be iterated upon. It implements the `__iter__` and `__next__` methods.\n",
    "\n",
    "### Example:"
   ]
  },
  {
   "cell_type": "code",
   "execution_count": null,
   "metadata": {},
   "outputs": [],
   "source": [
    "class Counter:\n",
    "    def __init__(self, start, end):\n",
    "        self.current = start\n",
    "        self.end = end\n",
    "\n",
    "    def __iter__(self):\n",
    "        return self\n",
    "\n",
    "    def __next__(self):\n",
    "        if self.current > self.end:\n",
    "            raise StopIteration\n",
    "        self.current += 1\n",
    "        return self.current - 1\n",
    "\n",
    "counter = Counter(1, 5)\n",
    "for num in counter:\n",
    "    print(num)"
   ]
  },
  {
   "cell_type": "markdown",
   "metadata": {},
   "source": [
    "### Key Points:\n",
    "- Iterators provide a way to access elements sequentially.\n",
    "- Use `__iter__` and `__next__` methods to implement custom iterators."
   ]
  },
  {
   "cell_type": "markdown",
   "metadata": {},
   "source": [
    "# OOP Exercise! Build a Simple Library System\n",
    "\n",
    "## Objective:\n",
    "Implement a class-based system to simulate a simple library. This exercise will test your understanding of classes, inheritance, encapsulation, and polymorphism.\n",
    "\n",
    "---\n",
    "\n",
    "## Problem Statement:\n",
    "\n",
    "Create a Python program with the following requirements:\n",
    "\n",
    "### 1. Define a `Book` class with attributes:\n",
    "- `title` (string): the title of the book.\n",
    "- `author` (string): the author of the book.\n",
    "- `isbn` (string): the ISBN of the book.\n",
    "- `available` (boolean): whether the book is available for borrowing.\n",
    "\n",
    "Include methods:\n",
    "- `__str__`: Returns a string representation of the book, e.g., `\"Title: The Alchemist, Author: Paulo Coelho, ISBN: 12345\"`.\n",
    "- `borrow`: Changes the book's availability to `False` if it's available; otherwise, informs the user that the book is already borrowed.\n",
    "- `return_book`: Changes the book's availability to `True`.\n",
    "\n",
    "---\n",
    "\n",
    "### 2. Define a `Member` class with attributes:\n",
    "- `name` (string): the name of the member.\n",
    "- `member_id` (string): a unique ID for the member.\n",
    "- `borrowed_books` (list): a list of books borrowed by the member.\n",
    "\n",
    "Include methods:\n",
    "- `borrow_book`: Adds a book to the `borrowed_books` list if it's available.\n",
    "- `return_book`: Removes a book from the `borrowed_books` list and marks it as available.\n",
    "\n",
    "---\n",
    "\n",
    "### 3. Define a `Library` class to manage the collection of books and members. Attributes:\n",
    "- `books` (list): a collection of `Book` objects in the library.\n",
    "- `members` (list): a collection of `Member` objects.\n",
    "\n",
    "Include methods:\n",
    "- `add_book`: Adds a new book to the library's collection.\n",
    "- `add_member`: Adds a new member to the library.\n",
    "- `find_book_by_title`: Searches for a book by title.\n",
    "- `list_available_books`: Displays all books currently available for borrowing.\n",
    "\n",
    "---\n",
    "\n",
    "## Example Usage:\n",
    "\n",
    "```python\n",
    "# Create library\n",
    "library = Library()\n",
    "\n",
    "# Add books\n",
    "library.add_book(Book(\"The Alchemist\", \"Paulo Coelho\", \"12345\"))\n",
    "library.add_book(Book(\"1984\", \"George Orwell\", \"67890\"))\n",
    "\n",
    "# Add members\n",
    "library.add_member(Member(\"Alice\", \"001\"))\n",
    "library.add_member(Member(\"Bob\", \"002\"))\n",
    "\n",
    "# Find a book and borrow it\n",
    "book = library.find_book_by_title(\"The Alchemist\")\n",
    "member = library.members[0]\n",
    "member.borrow_book(book)\n",
    "\n",
    "# List available books\n",
    "library.list_available_books()\n",
    "\n",
    "# Return the book\n",
    "member.return_book(book)\n",
    "\n",
    "# List available books again\n",
    "library.list_available_books()\n"
   ]
  },
  {
   "cell_type": "code",
   "execution_count": null,
   "metadata": {},
   "outputs": [],
   "source": []
  }
 ],
 "metadata": {
  "kernelspec": {
   "display_name": "Python 3",
   "language": "python",
   "name": "python3"
  },
  "language_info": {
   "name": "python",
   "version": "3.8.10"
  }
 },
 "nbformat": 4,
 "nbformat_minor": 4
}
