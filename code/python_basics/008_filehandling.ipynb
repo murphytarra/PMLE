{
 "cells": [
  {
   "cell_type": "markdown",
   "metadata": {},
   "source": [
    "# Python File Handling: A Comprehensive Guide\n",
    "\n",
    "File handling is an essential part of programming that allows you to interact with files stored on your system. Python provides several modules and built-in functions for working with files efficiently.\n",
    "\n",
    "### What You'll Learn:\n",
    "- File Handling Basics\n",
    "- Different File Modes\n",
    "- Reading Files\n",
    "- Writing/Creating Files\n",
    "- OS Module\n",
    "- `pathlib` Module\n",
    "- Directory Management"
   ]
  },
  {
   "cell_type": "markdown",
   "metadata": {},
   "source": [
    "## 1. File Handling Basics\n",
    "\n",
    "In Python, files can be opened using the `open()` function. This function takes two main parameters:\n",
    "- **File name**: The name of the file to open.\n",
    "- **Mode**: Specifies the mode in which the file is opened (read, write, append, etc.).\n",
    "\n",
    "### Syntax:\n",
    "```python\n",
    "file = open(filename, mode)\n",
    "file.close()\n",
    "```\n",
    "\n",
    "Using a `with` block is the recommended way to handle files as it automatically closes the file after use:\n",
    "```python\n",
    "with open(filename, mode) as file:\n",
    "    # Work with file\n",
    "```\n",
    "\n",
    "### Example:"
   ]
  },
  {
   "cell_type": "code",
   "execution_count": null,
   "metadata": {},
   "outputs": [],
   "source": [
    "# Using with statement to open a file\n",
    "with open(\"example.txt\", \"w\") as file:\n",
    "    file.write(\"Hello, world!\\nThis is a file handling example.\")\n",
    "\n",
    "# File is automatically closed after the block"
   ]
  },
  {
   "cell_type": "markdown",
   "metadata": {},
   "source": [
    "## 2. Different File Modes\n",
    "\n",
    "File modes specify the purpose for which a file is opened.\n",
    "\n",
    "| Mode | Description                        |\n",
    "|------|------------------------------------|\n",
    "| `r`  | Read mode (default). File must exist. |\n",
    "| `w`  | Write mode. Creates a new file or overwrites an existing file. |\n",
    "| `a`  | Append mode. Adds data to the end of the file. |\n",
    "| `x`  | Create mode. Creates a new file. If file exists, it raises an error. |\n",
    "| `t`  | Text mode (default). |\n",
    "| `b`  | Binary mode. |\n",
    "\n",
    "### Example:"
   ]
  },
  {
   "cell_type": "code",
   "execution_count": null,
   "metadata": {},
   "outputs": [],
   "source": [
    "# Writing to a file\n",
    "with open(\"write_example.txt\", \"w\") as file:\n",
    "    file.write(\"This file was created with write mode.\\n\")\n",
    "\n",
    "# Appending to the same file\n",
    "with open(\"write_example.txt\", \"a\") as file:\n",
    "    file.write(\"This line was added in append mode.\\n\")\n",
    "\n",
    "# Reading the file\n",
    "with open(\"write_example.txt\", \"r\") as file:\n",
    "    print(file.read())"
   ]
  },
  {
   "cell_type": "markdown",
   "metadata": {},
   "source": [
    "## 3. Reading Files\n",
    "\n",
    "Python provides several methods to read files:\n",
    "- `read()`: Reads the entire content of the file.\n",
    "- `readline()`: Reads a single line.\n",
    "- `readlines()`: Reads all lines and returns them as a list.\n",
    "\n",
    "### Example:"
   ]
  },
  {
   "cell_type": "code",
   "execution_count": null,
   "metadata": {},
   "outputs": [],
   "source": [
    "# Reading the entire content\n",
    "with open(\"example.txt\", \"r\") as file:\n",
    "    content = file.read()\n",
    "    print(\"File Content:\")\n",
    "    print(content)\n",
    "\n",
    "# Reading line by line\n",
    "with open(\"example.txt\", \"r\") as file:\n",
    "    for line in file:\n",
    "        print(\"Line:\", line.strip())"
   ]
  },
  {
   "cell_type": "markdown",
   "metadata": {},
   "source": [
    "## 4. Writing and Creating Files\n",
    "\n",
    "- Use `w` mode to overwrite or create a new file.\n",
    "- Use `a` mode to append data to an existing file.\n",
    "\n",
    "### Example:"
   ]
  },
  {
   "cell_type": "code",
   "execution_count": null,
   "metadata": {},
   "outputs": [],
   "source": [
    "# Creating a new file\n",
    "with open(\"new_file.txt\", \"w\") as file:\n",
    "    file.write(\"This is a new file created in write mode.\")\n",
    "\n",
    "# Reading the created file\n",
    "with open(\"new_file.txt\", \"r\") as file:\n",
    "    print(file.read())"
   ]
  },
  {
   "cell_type": "markdown",
   "metadata": {},
   "source": [
    "## 5. OS Module\n",
    "\n",
    "The `os` module provides functions for interacting with the operating system, including file and directory operations.\n",
    "\n",
    "### Commonly Used Functions:\n",
    "- `os.rename()`: Rename a file.\n",
    "- `os.remove()`: Delete a file.\n",
    "- `os.listdir()`: List all files in a directory.\n",
    "- `os.mkdir()`: Create a new directory.\n",
    "- `os.rmdir()`: Remove an empty directory.\n",
    "\n",
    "### Example:"
   ]
  },
  {
   "cell_type": "code",
   "execution_count": null,
   "metadata": {},
   "outputs": [],
   "source": [
    "import os\n",
    "\n",
    "# List files in the current directory\n",
    "print(\"Files in current directory:\", os.listdir())\n",
    "\n",
    "# Rename a file\n",
    "os.rename(\"new_file.txt\", \"renamed_file.txt\")\n",
    "print(\"File renamed.\")\n",
    "\n",
    "# Delete the renamed file\n",
    "os.remove(\"renamed_file.txt\")\n",
    "print(\"File deleted.\")"
   ]
  },
  {
   "cell_type": "markdown",
   "metadata": {},
   "source": [
    "## 6. `pathlib` Module\n",
    "\n",
    "The `pathlib` module provides an object-oriented interface for working with file system paths.\n",
    "\n",
    "### Commonly Used Classes:\n",
    "- `Path`: Represents a filesystem path.\n",
    "- `Path.exists()`: Check if a path exists.\n",
    "- `Path.mkdir()`: Create a directory.\n",
    "- `Path.unlink()`: Delete a file.\n",
    "\n",
    "### Example:"
   ]
  },
  {
   "cell_type": "code",
   "execution_count": null,
   "metadata": {},
   "outputs": [],
   "source": [
    "from pathlib import Path\n",
    "\n",
    "# Create a Path object\n",
    "path = Path(\"example_path.txt\")\n",
    "\n",
    "# Create a file\n",
    "path.write_text(\"This file was created using pathlib.\")\n",
    "print(\"File created:\", path)\n",
    "\n",
    "# Check if the file exists\n",
    "print(\"Does the file exist?\", path.exists())\n",
    "\n",
    "# Read the file content\n",
    "print(\"File content:\", path.read_text())\n",
    "\n",
    "# Delete the file\n",
    "path.unlink()\n",
    "print(\"File deleted.\")"
   ]
  },
  {
   "cell_type": "markdown",
   "metadata": {},
   "source": [
    "## 7. Directory Management\n",
    "\n",
    "Directory management involves creating, renaming, deleting, and navigating directories.\n",
    "\n",
    "### Examples:"
   ]
  },
  {
   "cell_type": "code",
   "execution_count": null,
   "metadata": {},
   "outputs": [],
   "source": [
    "import os\n",
    "\n",
    "# Create a new directory\n",
    "os.mkdir(\"new_directory\")\n",
    "print(\"Directory created.\")\n",
    "\n",
    "# List contents of the current directory\n",
    "print(\"Contents of current directory:\", os.listdir())\n",
    "\n",
    "# Remove the directory\n",
    "os.rmdir(\"new_directory\")\n",
    "print(\"Directory removed.\")"
   ]
  },
  {
   "cell_type": "markdown",
   "metadata": {},
   "source": [
    "## Summary\n",
    "\n",
    "In this notebook, we explored:\n",
    "- Basic file handling techniques.\n",
    "- Different file modes (`r`, `w`, `a`, `x`).\n",
    "- Reading and writing files.\n",
    "- Using the `os` module for file and directory operations.\n",
    "- Using the `pathlib` module for an object-oriented approach to paths.\n",
    "\n",
    "### Exercises:\n",
    "1. Write a program to copy the contents of one file to another.\n",
    "2. Create a directory structure with multiple levels and delete it programmatically.\n",
    "3. Use `pathlib` to list all `.txt` files in the current directory."
   ]
  }
 ],
 "metadata": {
  "kernelspec": {
   "display_name": "Python 3",
   "language": "python",
   "name": "python3"
  },
  "language_info": {
   "name": "python",
   "version": "3.8.10"
  }
 },
 "nbformat": 4,
 "nbformat_minor": 4
}
