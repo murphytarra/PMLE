{
 "cells": [
  {
   "cell_type": "markdown",
   "metadata": {},
   "source": [
    "# Python Data Types\n",
    "\n",
    "In Python, data types are the building blocks of data manipulation. Understanding data types helps you select the correct tools and operations for your tasks.\n",
    "\n",
    "### What You'll Learn:\n",
    "- Built-in data types in Python.\n",
    "- When and how to use different data types.\n",
    "- Practical examples and exercises.\n"
   ]
  },
  {
   "cell_type": "markdown",
   "metadata": {},
   "source": [
    "## 1. Numeric Data Types\n",
    "\n",
    "Python provides three primary numeric data types:\n",
    "- **Integers (`int`)**: Whole numbers, e.g., 1, -5, 100.\n",
    "- **Floating-Point Numbers (`float`)**: Decimal numbers, e.g., 3.14, -0.001.\n",
    "- **Complex Numbers (`complex`)**: Numbers with a real and imaginary part, e.g., `3 + 4j`.\n",
    "\n",
    "### Examples:"
   ]
  },
  {
   "cell_type": "code",
   "execution_count": 1,
   "metadata": {},
   "outputs": [
    {
     "name": "stdout",
     "output_type": "stream",
     "text": [
      "Integer examples: 10 -5\n",
      "Float examples: 3.14 -0.001\n",
      "Complex number example: (3+4j)\n",
      "Real part: 3.0\n",
      "Imaginary part: 4.0\n"
     ]
    }
   ],
   "source": [
    "# Integers\n",
    "a = 10\n",
    "b = -5\n",
    "print(\"Integer examples:\", a, b)\n",
    "\n",
    "# Floats\n",
    "x = 3.14\n",
    "y = -0.001\n",
    "print(\"Float examples:\", x, y)\n",
    "\n",
    "# Complex numbers\n",
    "z = 3 + 4j\n",
    "print(\"Complex number example:\", z)\n",
    "print(\"Real part:\", z.real)\n",
    "print(\"Imaginary part:\", z.imag)"
   ]
  },
  {
   "cell_type": "markdown",
   "metadata": {},
   "source": [
    "### When to Use Numeric Types\n",
    "- **`int`**: For counting or indexing.\n",
    "- **`float`**: For measurements, percentages, and continuous data.\n",
    "- **`complex`**: For scientific computations requiring imaginary numbers.\n",
    "\n",
    "### Exercise 1: Numeric Types\n",
    "1. Create variables to represent:\n",
    "   - The number of days in a week.\n",
    "   - The average temperature in your city.\n",
    "   - A complex number representing a wave.\n",
    "2. Print each variable along with its type."
   ]
  },
  {
   "cell_type": "code",
   "execution_count": 1,
   "metadata": {},
   "outputs": [],
   "source": [
    "# Exercise 1: Your Code Here"
   ]
  },
  {
   "cell_type": "markdown",
   "metadata": {},
   "source": [
    "## 2. Sequence Data Types\n",
    "\n",
    "### Types of Sequences:\n",
    "- **Strings (`str`)**: A sequence of characters.\n",
    "- **Lists (`list`)**: Ordered, mutable collections.\n",
    "- **Tuples (`tuple`)**: Ordered, immutable collections.\n",
    "\n",
    "### Strings:\n",
    "Strings are used for text. They are immutable, meaning they cannot be changed after creation.\n",
    "\n",
    "### Examples:"
   ]
  },
  {
   "cell_type": "code",
   "execution_count": 3,
   "metadata": {},
   "outputs": [
    {
     "name": "stdout",
     "output_type": "stream",
     "text": [
      "String example: Hello, Alice\n",
      "Length of greeting: 12\n",
      "Substring example: Hello\n"
     ]
    }
   ],
   "source": [
    "# Strings\n",
    "name = \"Alice\"\n",
    "greeting = \"Hello, \" + name\n",
    "print(\"String example:\", greeting)\n",
    "print(\"Length of greeting:\", len(greeting))\n",
    "print(\"Substring example:\", greeting[0:5])"
   ]
  },
  {
   "cell_type": "markdown",
   "metadata": {},
   "source": [
    "### Lists:\n",
    "Lists can store mixed data types and are used when you need a mutable collection.\n",
    "\n",
    "### Examples:"
   ]
  },
  {
   "cell_type": "code",
   "execution_count": 4,
   "metadata": {},
   "outputs": [
    {
     "name": "stdout",
     "output_type": "stream",
     "text": [
      "List example: ['apple', 'banana', 'cherry', 'date']\n",
      "Second fruit: banana\n"
     ]
    }
   ],
   "source": [
    "# Lists\n",
    "fruits = [\"apple\", \"banana\", \"cherry\"]\n",
    "fruits.append(\"date\")\n",
    "print(\"List example:\", fruits)\n",
    "print(\"Second fruit:\", fruits[1])"
   ]
  },
  {
   "cell_type": "markdown",
   "metadata": {},
   "source": [
    "### Tuples:\n",
    "Tuples are like lists but immutable, meaning they cannot be changed after creation.\n",
    "\n",
    "### Examples:"
   ]
  },
  {
   "cell_type": "code",
   "execution_count": 5,
   "metadata": {},
   "outputs": [
    {
     "name": "stdout",
     "output_type": "stream",
     "text": [
      "Tuple example: (10, 20)\n",
      "X coordinate: 10\n"
     ]
    }
   ],
   "source": [
    "# Tuples\n",
    "coordinates = (10, 20)\n",
    "print(\"Tuple example:\", coordinates)\n",
    "print(\"X coordinate:\", coordinates[0])"
   ]
  },
  {
   "cell_type": "markdown",
   "metadata": {},
   "source": [
    "### When to Use Sequence Types\n",
    "- **`str`**: For handling text data like names, sentences, or file paths.\n",
    "- **`list`**: For collections where elements need to change.\n",
    "- **`tuple`**: For fixed collections of elements, e.g., coordinates or database keys.\n",
    "\n",
    "### Exercise 2: Sequence Types\n",
    "1. Create a string with your favorite quote.\n",
    "2. Create a list of your favorite fruits and add one more fruit.\n",
    "3. Create a tuple representing a 3D point (x, y, z).\n",
    "4. Print each variable and access a specific element."
   ]
  },
  {
   "cell_type": "code",
   "execution_count": 9,
   "metadata": {},
   "outputs": [],
   "source": [
    "# Exercise 2: Your Code Here"
   ]
  },
  {
   "cell_type": "markdown",
   "metadata": {},
   "source": [
    "## 3. Mappings: Dictionaries\n",
    "\n",
    "Dictionaries (`dict`) store key-value pairs. Keys must be unique and immutable, while values can be any type.\n",
    "\n",
    "### Examples:"
   ]
  },
  {
   "cell_type": "code",
   "execution_count": 7,
   "metadata": {},
   "outputs": [
    {
     "name": "stdout",
     "output_type": "stream",
     "text": [
      "Dictionary example: {'name': 'Alice', 'age': 30, 'job': 'Engineer'}\n",
      "Name: Alice\n",
      "Updated dictionary: {'name': 'Alice', 'age': 31, 'job': 'Engineer'}\n"
     ]
    }
   ],
   "source": [
    "# Dictionaries\n",
    "person = {\n",
    "    \"name\": \"Alice\",\n",
    "    \"age\": 30,\n",
    "    \"job\": \"Engineer\"\n",
    "}\n",
    "print(\"Dictionary example:\", person)\n",
    "print(\"Name:\", person[\"name\"])\n",
    "person[\"age\"] = 31  # Updating a value\n",
    "print(\"Updated dictionary:\", person)"
   ]
  },
  {
   "cell_type": "markdown",
   "metadata": {},
   "source": [
    "### When to Use Dictionaries\n",
    "- Use dictionaries when you need to map unique keys to values.\n",
    "- Examples: Storing configurations, user profiles, or metadata.\n",
    "\n",
    "### Exercise 3: Dictionaries\n",
    "1. Create a dictionary representing a book with keys: `title`, `author`, `year`.\n",
    "2. Update the `year` to a new value.\n",
    "3. Add a new key-value pair for `genre`.\n",
    "4. Print the dictionary."
   ]
  },
  {
   "cell_type": "code",
   "execution_count": 10,
   "metadata": {},
   "outputs": [],
   "source": [
    "# Exercise 3: Your Code Here"
   ]
  }
 ],
 "metadata": {
  "kernelspec": {
   "display_name": "teaching_env",
   "language": "python",
   "name": "python3"
  },
  "language_info": {
   "codemirror_mode": {
    "name": "ipython",
    "version": 3
   },
   "file_extension": ".py",
   "mimetype": "text/x-python",
   "name": "python",
   "nbconvert_exporter": "python",
   "pygments_lexer": "ipython3",
   "version": "3.13.1"
  }
 },
 "nbformat": 4,
 "nbformat_minor": 4
}
