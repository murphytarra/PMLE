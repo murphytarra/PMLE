{
 "cells": [
  {
   "cell_type": "markdown",
   "metadata": {},
   "source": [
    "# Advanced Concepts in Python Functions\n",
    "\n",
    "This notebook explores advanced concepts in Python functions, providing a deeper understanding of:\n",
    "\n",
    "- Use of `pass` statement in functions\n",
    "- Scope of variables in functions\n",
    "- Recursion in Python\n",
    "- Lambda functions\n",
    "- Higher-order functions: `map`, `filter`, `reduce`\n",
    "- Inner functions\n",
    "- Decorators"
   ]
  },
  {
   "cell_type": "markdown",
   "metadata": {},
   "source": [
    "## 1. Use of `pass` Statement in Functions\n",
    "\n",
    "The `pass` statement is a placeholder. It is used when you define a function or block of code but don’t want to implement it immediately.\n",
    "\n",
    "### Example:"
   ]
  },
  {
   "cell_type": "code",
   "execution_count": null,
   "metadata": {},
   "outputs": [],
   "source": [
    "def future_function():\n",
    "    pass  # Placeholder for future implementation\n",
    "\n",
    "# You can call the function without any error\n",
    "future_function()"
   ]
  },
  {
   "cell_type": "markdown",
   "metadata": {},
   "source": [
    "## 2. Scope of Variables in Functions\n",
    "\n",
    "Variables in Python have different scopes:\n",
    "- **Local Scope**: Variables defined within a function.\n",
    "- **Global Scope**: Variables defined outside any function.\n",
    "\n",
    "### Example:"
   ]
  },
  {
   "cell_type": "code",
   "execution_count": null,
   "metadata": {},
   "outputs": [],
   "source": [
    "x = 10  # Global variable\n",
    "\n",
    "def print_local():\n",
    "    x = 5  # Local variable\n",
    "    print(\"Inside function:\", x)\n",
    "\n",
    "print_local()\n",
    "print(\"Outside function:\", x)"
   ]
  },
  {
   "cell_type": "markdown",
   "metadata": {},
   "source": [
    "## 3. Lambda Functions\n",
    "\n",
    "Lambda functions are anonymous functions defined using the `lambda` keyword. They are often used for short, throwaway functions.\n",
    "\n",
    "### Example:"
   ]
  },
  {
   "cell_type": "code",
   "execution_count": null,
   "metadata": {},
   "outputs": [],
   "source": [
    "square = lambda x: x ** 2\n",
    "print(square(5))"
   ]
  },
  {
   "cell_type": "markdown",
   "metadata": {},
   "source": [
    "## 4. Higher-Order Functions: `map`, `filter`, `reduce`\n",
    "\n",
    "- `map`: Applies a function to all items in an iterable.\n",
    "- `filter`: Filters items based on a condition.\n",
    "- `reduce`: Applies a rolling computation to items in an iterable.\n",
    "\n",
    "### Examples:"
   ]
  },
  {
   "cell_type": "code",
   "execution_count": null,
   "metadata": {},
   "outputs": [],
   "source": [
    "from functools import reduce\n",
    "\n",
    "# map example\n",
    "nums = [1, 2, 3, 4]\n",
    "squared = list(map(lambda x: x ** 2, nums))\n",
    "print(\"Squared:\", squared)\n",
    "\n",
    "# filter example\n",
    "evens = list(filter(lambda x: x % 2 == 0, nums))\n",
    "print(\"Evens:\", evens)\n",
    "\n",
    "# reduce example\n",
    "product = reduce(lambda x, y: x * y, nums)\n",
    "print(\"Product:\", product)"
   ]
  },
  {
   "cell_type": "markdown",
   "metadata": {},
   "source": [
    "## 5. Inner Functions\n",
    "\n",
    "Functions can be defined inside other functions. Inner functions are often used to encapsulate logic or to create closures.\n",
    "\n",
    "### Example:"
   ]
  },
  {
   "cell_type": "code",
   "execution_count": null,
   "metadata": {},
   "outputs": [],
   "source": [
    "def outer_function():\n",
    "    def inner_function():\n",
    "        print(\"Inner function\")\n",
    "    inner_function()\n",
    "\n",
    "outer_function()"
   ]
  },
  {
   "cell_type": "markdown",
   "metadata": {},
   "source": [
    "## 6. Decorators\n",
    "\n",
    "What are Decorators?\n",
    "A decorator in Python is a design pattern that allows you to modify or enhance the behavior of a function or method without altering its code. Decorators are often used to implement reusable functionality, such as logging, access control, or memoization.\n",
    "\n",
    "Decorators are implemented as callable objects (functions or classes) that take another function as an argument, modify it, and return the modified function.\n",
    "\n",
    "In Python, decorators are applied using the `@decorator_name` syntax above the target function.\n",
    "\n",
    "### Example:"
   ]
  },
  {
   "cell_type": "code",
   "execution_count": 1,
   "metadata": {},
   "outputs": [],
   "source": [
    "def my_decorator(func):\n",
    "    def wrapper(*args, **kwargs):\n",
    "        # Code to execute before calling the function\n",
    "        print(\"Before the function call\")\n",
    "        \n",
    "        # Call the original function\n",
    "        result = func(*args, **kwargs)\n",
    "        \n",
    "        # Code to execute after calling the function\n",
    "        print(\"After the function call\")\n",
    "        \n",
    "        return result\n",
    "    return wrapper\n"
   ]
  },
  {
   "cell_type": "markdown",
   "metadata": {},
   "source": [
    "To apply the decorator to a function, you can use the `@my_decorator` syntax:"
   ]
  },
  {
   "cell_type": "code",
   "execution_count": 2,
   "metadata": {},
   "outputs": [
    {
     "name": "stdout",
     "output_type": "stream",
     "text": [
      "Before the function call\n",
      "Hello, Alice!\n",
      "After the function call\n"
     ]
    }
   ],
   "source": [
    "@my_decorator\n",
    "def say_hello(name):\n",
    "    print(f\"Hello, {name}!\")\n",
    "\n",
    "# Call the decorated function\n",
    "say_hello(\"Alice\")\n"
   ]
  },
  {
   "cell_type": "markdown",
   "metadata": {},
   "source": [
    "## 7. Examples of decorators"
   ]
  },
  {
   "cell_type": "code",
   "execution_count": null,
   "metadata": {},
   "outputs": [],
   "source": [
    "# Logging Decorator\n",
    "def log_function_call(func):\n",
    "    def wrapper(*args, **kwargs):\n",
    "        print(f\"Calling {func.__name__} with arguments {args} and {kwargs}\")\n",
    "        result = func(*args, **kwargs)\n",
    "        print(f\"{func.__name__} returned {result}\")\n",
    "        return result\n",
    "    return wrapper\n",
    "\n",
    "@log_function_call\n",
    "def add(a, b):\n",
    "    return a + b\n",
    "\n",
    "add(3, 5)"
   ]
  },
  {
   "cell_type": "code",
   "execution_count": null,
   "metadata": {},
   "outputs": [],
   "source": [
    "# Access control decorator\n",
    "def require_password(password):\n",
    "    def decorator(func):\n",
    "        def wrapper(*args, **kwargs):\n",
    "            if kwargs.get('password') == password:\n",
    "                return func(*args, **kwargs)\n",
    "            else:\n",
    "                print(\"Access denied: Incorrect password\")\n",
    "        return wrapper\n",
    "    return decorator\n",
    "\n",
    "@require_password(\"mypassword\")\n",
    "def secret_message(*args, **kwargs):\n",
    "    print(\"The secret message is: Python is awesome!\")\n",
    "\n",
    "# Call with correct password\n",
    "secret_message(password=\"mypassword\")\n",
    "\n",
    "# Call with incorrect password\n",
    "secret_message(password=\"wrongpassword\")\n"
   ]
  },
  {
   "cell_type": "code",
   "execution_count": null,
   "metadata": {},
   "outputs": [],
   "source": [
    "# Timing Decorator\n",
    "import time\n",
    "\n",
    "def timer(func):\n",
    "    def wrapper(*args, **kwargs):\n",
    "        start_time = time.time()\n",
    "        result = func(*args, **kwargs)\n",
    "        end_time = time.time()\n",
    "        print(f\"{func.__name__} executed in {end_time - start_time:.4f} seconds\")\n",
    "        return result\n",
    "    return wrapper\n",
    "\n",
    "@timer\n",
    "def slow_function():\n",
    "    time.sleep(2)\n",
    "    print(\"Finished slow function\")\n",
    "\n",
    "slow_function()\n"
   ]
  },
  {
   "cell_type": "markdown",
   "metadata": {},
   "source": [
    "# Practice Exercise: \"Scientific Experiment Tracker with Decorators\"\n",
    "\n",
    "## Objective\n",
    "Create a program where:\n",
    "1. Each experiment function performs a calculation.\n",
    "2. Decorators:\n",
    "   - Log experiment details.\n",
    "   - Handle potential errors.\n",
    "   - Convert units automatically.\n",
    "\n",
    "---\n",
    "\n",
    "## Instructions\n",
    "\n",
    "### **Part 1: Experiment Functions**\n",
    "Write the following experiment functions:\n",
    "1. `calculate_speed(distance, time)`: Calculates speed using \\( \\text{speed} = \\frac{\\text{distance}}{\\text{time}} \\) (returns meters/second).\n",
    "2. `calculate_energy(mass, velocity)`: Calculates kinetic energy using \\( E_k = \\frac{1}{2} m v^2 \\) (returns Joules).\n",
    "\n",
    "---\n",
    "\n",
    "### **Part 2: Logging with a Decorator**\n",
    "Create a decorator `log_experiment` that:\n",
    "- Logs the function name, arguments, and result to the console. For example:\n",
    "   ```\n",
    "   Experiment: calculate_speed\n",
    "   Inputs: distance=100, time=10\n",
    "   Result: 10.0 m/s\n",
    "   ```\n",
    "\n",
    "- Use `@log_experiment` to decorate both functions.\n",
    "\n",
    "---\n",
    "\n",
    "### **Part 3: Unit Conversion with a Decorator**\n",
    "Create a decorator `convert_units` that:\n",
    "- Converts the output of the decorated function into different units:\n",
    "- Speed: From meters/second to kilometers/hour (\\(1 \\, \\text{m/s} = 3.6 \\, \\text{km/h}\\)).\n",
    "- Energy: From Joules to kilojoules (\\(1 \\, \\text{J} = 0.001 \\, \\text{kJ}\\)).\n",
    "- Modifies the output to include the converted value\n",
    "\n"
   ]
  },
  {
   "cell_type": "code",
   "execution_count": null,
   "metadata": {},
   "outputs": [],
   "source": []
  }
 ],
 "metadata": {
  "kernelspec": {
   "display_name": "teaching_env",
   "language": "python",
   "name": "python3"
  },
  "language_info": {
   "codemirror_mode": {
    "name": "ipython",
    "version": 3
   },
   "file_extension": ".py",
   "mimetype": "text/x-python",
   "name": "python",
   "nbconvert_exporter": "python",
   "pygments_lexer": "ipython3",
   "version": "3.13.1"
  }
 },
 "nbformat": 4,
 "nbformat_minor": 4
}
