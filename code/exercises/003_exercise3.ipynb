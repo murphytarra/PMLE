{
 "cells": [
  {
   "cell_type": "markdown",
   "metadata": {},
   "source": [
    "# Exercise: Apply PCA and Clustering to the MNIST Dataset\n",
    "\n",
    "## What's the Plan?\n",
    "Welcome to your next challenge! In this exercise, you’ll use the MNIST dataset, apply **Principal Component Analysis (PCA)** for dimensionality reduction, and experiment with clustering models to uncover patterns. The goal is to evaluate how PCA and clustering models like **K-Means** and **DBSCAN** perform with high-dimensional data.\n",
    "\n",
    "---\n",
    "\n",
    "## **Goals**\n",
    "1. **Reduce Dimensionality**: Use PCA to reduce MNIST from 784 dimensions to a lower-dimensional space.\n",
    "2. **Explore Clustering**: Apply clustering models like K-Means and DBSCAN to group the data.\n",
    "3. **Visualize Results**: Plot clusters in 2D or 3D to see patterns in the data.\n",
    "4. **Evaluate Performance**: Use metrics like silhouette scores to compare clustering models.\n",
    "5. **Share Your Work**: Upload your notebook to your MNIST repo and make it user-friendly. The easiest-to-use notebook wins **chocolate**! 🍫\n",
    "\n",
    "---\n"
   ]
  },
  {
   "cell_type": "markdown",
   "metadata": {},
   "source": []
  }
 ],
 "metadata": {
  "language_info": {
   "name": "python"
  }
 },
 "nbformat": 4,
 "nbformat_minor": 2
}
