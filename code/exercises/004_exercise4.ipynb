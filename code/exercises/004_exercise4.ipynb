{
 "cells": [
  {
   "cell_type": "markdown",
   "metadata": {},
   "source": [
    "# 🎨 Build Your Own Neural Network for MNIST! 🧠\n",
    "\n",
    "## What's the Plan?\n",
    "You're about to become a **Neural Network Architect**! 🏗️ Your mission is to design and train a neural network that can classify handwritten digits from the famous MNIST dataset. Think of yourself as the Picasso of machine learning—creating a masterpiece that can recognize numbers from 0 to 9 with stunning accuracy. 🖌️✨\n",
    "\n",
    "But wait, there’s a twist: You’ll do this **step-by-step**, making sure your code is clean, reusable, and well-documented. By the end, you’ll have a fully functional PyTorch-based NN that can proudly call itself an MNIST expert! 🚀\n",
    "\n",
    "---\n",
    "\n",
    "## What Will Your Neural Network Do?\n",
    "\n",
    "### 1. **Load and Preprocess the MNIST Data**\n",
    "- Download the MNIST dataset (PyTorch makes this super easy).\n",
    "- Normalize pixel values to `[0, 1]` for faster and more stable training.\n",
    "- Split the data into **training** and **test** sets (don't skip validation!).\n",
    "\n",
    "---\n",
    "\n",
    "### 2. **Build Your Neural Network**\n",
    "- Create a feedforward neural network with:\n",
    "  - **Input Layer**: To accept the 28x28 pixel values (flattened into a 1D vector of size 784).\n",
    "  - **Hidden Layers**: Add at least one with an activation function like **ReLU** to capture patterns.\n",
    "  - **Output Layer**: 10 neurons for the digits 0-9, using **Softmax** for probabilities.\n",
    "\n",
    "---\n",
    "\n",
    "### 3. **Train Your Neural Network**\n",
    "- Use a **CrossEntropyLoss** function to calculate the error.\n",
    "- Optimize the weights using **Stochastic Gradient Descent (SGD)**.\n",
    "- Track the training process by printing the loss after every epoch.\n",
    "\n",
    "---\n",
    "\n",
    "### 4. **Evaluate Your Model**\n",
    "- Test the model on unseen data and calculate accuracy.\n",
    "- Display a confusion matrix to see where your model excels or struggles.\n",
    "\n",
    "---\n",
    "\n",
    "### 5. **Visualize the Results**\n",
    "- Pick a few test samples, visualize them, and let your model predict the digits.\n",
    "- Show both the correct and incorrect predictions (because we learn from mistakes, right?).\n",
    "\n",
    "---\n"
   ]
  },
  {
   "cell_type": "markdown",
   "metadata": {},
   "source": []
  }
 ],
 "metadata": {
  "language_info": {
   "name": "python"
  }
 },
 "nbformat": 4,
 "nbformat_minor": 2
}
