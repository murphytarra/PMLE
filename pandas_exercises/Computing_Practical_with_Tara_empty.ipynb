{
 "cells": [
  {
   "cell_type": "markdown",
   "metadata": {},
   "source": [
    "# Computational Practical - Introduction to Python, Simulations and Data Handling with Pandas"
   ]
  },
  {
   "cell_type": "markdown",
   "metadata": {},
   "source": [
    "Throughout this practical we're going to first: \n",
    "- Set up Anaconda/Visual Studio and make sure everyone knows how to create an environment to run code \n",
    "- Simulate and visualise Brownian Motion \n",
    "- Save and Load a large Data File with our simulator \n",
    "- Data Handling with our new data! "
   ]
  },
  {
   "cell_type": "markdown",
   "metadata": {},
   "source": [
    "## 1. Recap on Brownian Motion "
   ]
  },
  {
   "cell_type": "markdown",
   "metadata": {},
   "source": [
    "Brownian motion refers to the random and continuous movement of particles in fluids (liquids or gases), which occurs due to collisions between the particles. This phenomenon was first observed by the Scottish botanist Robert Brown in 1827. The motion is independent, with each step being random and unrelated to the previous one, often modeled using a 'random walk'. Over time, the distance a particle travels from its starting position forms a Gaussian distribution, expanding as time progresses.\n",
    "\n",
    "Key factors that amplify the motion of particles include increased temperature (leading to more energy and hence, more motion), less viscous solutions (making it easier for particles to move), and smaller particle sizes (as smaller particles move faster and travel further compared to larger particles). In colloids, Brownian motion prevents the larger particles from settling down due to gravity, keeping them suspended in the solution.\n",
    "\n",
    "Examples of Brownian motion are evident in the diffusion process and can be observed in experiments involving the tracking of fluorescent dyes in solutions. Notable figures in the study of Brownian motion include Albert Einstein, who published the first paper on the topic, and Jean Baptiste Perrin, who was awarded the Nobel Prize in Physics in 1926 for his contribution to the understanding of Brownian motion. The research in this area continues today, focusing on various aspects including mathematical modeling of the motion."
   ]
  },
  {
   "cell_type": "markdown",
   "metadata": {},
   "source": [
    "## 2. Formulas needed for Brownian Motion\n",
    "\n",
    "#### One-Dimensional Brownian Motion:\n",
    "\n",
    "In a standard one-dimensional Brownian motion $B_t$, the change $ \\Delta B_t $ over an interval $ \\Delta t$ is given by:\n",
    "\n",
    "$$ \\Delta B_t \\sim N(0, \\Delta t) $$\n",
    "\n",
    "Where:\n",
    "- $ \\Delta B_t $: Change in position\n",
    "- $N(0, \\Delta t)$: Normally distributed random variable with mean $0$ and variance $ \\Delta t $\n",
    "\n",
    "#### Two-Dimensional Brownian Motion:\n",
    "\n",
    "In two dimensions, the $x$ and $y$ coordinates, $ (X_t, Y_t) $, evolve independently as:\n",
    "\n",
    "$$ \\Delta X_t \\sim N(0, \\Delta t) $$\n",
    "$$ \\Delta Y_t \\sim N(0, \\Delta t) $$\n",
    "\n",
    "Where:\n",
    "- $ \\Delta X_t $, $\\Delta Y_t$: Change in x and y coordinates respectively\n",
    "- $ N(0, \\Delta t) $: Normally distributed random variable with mean 0 and variance $ \\Delta t $\n",
    "\n",
    "#### General Form:\n",
    "\n",
    "The general form of Brownian motion, $ B_t $, at time $ t $can be expressed as:\n",
    "\n",
    "$$ B_t = \\sqrt{t} \\cdot Z $$\n",
    "\n",
    "Where:\n",
    "- $ B_t $: Position at time $ t $\n",
    "- $ \\sqrt{t} $: Square root of time\n",
    "- $ Z $: Standard normal random variable ($ Z \\sim N(0, 1)$)\n"
   ]
  },
  {
   "cell_type": "markdown",
   "metadata": {},
   "source": [
    "## 3. So how do we transition from Code to Simulation? Can we simulate this?"
   ]
  },
  {
   "cell_type": "markdown",
   "metadata": {},
   "source": [
    "Sometimes it can be tricky to transition from theory to simulation, so let's go through it step by step. Write a function/class what ever you want that simulates this in one dimension as a function of time. "
   ]
  },
  {
   "cell_type": "code",
   "execution_count": 1,
   "metadata": {},
   "outputs": [],
   "source": [
    "import numpy as np \n",
    "import matplotlib.pyplot as plt "
   ]
  },
  {
   "cell_type": "markdown",
   "metadata": {},
   "source": [
    "Can you plot this? (Lorenzo is going to show you how to plot this and make it pretty in the next practical!)"
   ]
  },
  {
   "cell_type": "markdown",
   "metadata": {},
   "source": [
    "## Two Dimensional Simulation: Can you simulate two dimensional brownian motion? How would you plot this?"
   ]
  },
  {
   "cell_type": "markdown",
   "metadata": {},
   "source": [
    "See if you can get this yourself! You can either write your own function or create a new one! It's up to you! :) "
   ]
  },
  {
   "cell_type": "code",
   "execution_count": 4,
   "metadata": {},
   "outputs": [],
   "source": [
    "#put your code here to simulate and plot brownian motion\n"
   ]
  },
  {
   "cell_type": "code",
   "execution_count": null,
   "metadata": {},
   "outputs": [],
   "source": [
    "\n",
    "\n"
   ]
  },
  {
   "cell_type": "markdown",
   "metadata": {},
   "source": [
    "Great now you know how to simulate Brownian Motion! Your next step is to see if you can save it! Usually when we handle large datasets in science, we use a python library called pandas. It's a great way to handle our data easy and efficiently. So make sure you have it installed!"
   ]
  },
  {
   "cell_type": "code",
   "execution_count": 26,
   "metadata": {},
   "outputs": [],
   "source": [
    "#put your code here to write it as a file with pandas and save that file"
   ]
  },
  {
   "cell_type": "markdown",
   "metadata": {},
   "source": [
    "Here we saved it to a csv file, but there is lots of ways you can save them, including npz, excel etc. When your in the lab sometimes you'll be handling weird files, so make sure to look up on pandas the way to save and load them! "
   ]
  },
  {
   "cell_type": "markdown",
   "metadata": {},
   "source": [
    "Next step is to load them!"
   ]
  },
  {
   "cell_type": "code",
   "execution_count": 27,
   "metadata": {},
   "outputs": [],
   "source": [
    "#write your code here to load the data"
   ]
  },
  {
   "cell_type": "markdown",
   "metadata": {},
   "source": [
    "Now our data is nice and clean and all the numbers are there. But in real life, we usually don't have such a nice dataset and data is usually missing! So I'm going to make our data look a bit more realistic. "
   ]
  },
  {
   "cell_type": "code",
   "execution_count": 28,
   "metadata": {},
   "outputs": [],
   "source": [
    "def introduce_missing_values(df, missing_fraction=0.1):\n",
    "\n",
    "    df_with_nans = df.copy()\n",
    "    total_values = df_with_nans.size\n",
    "    num_missing = int(total_values * missing_fraction)\n",
    "    for _ in range(num_missing):\n",
    "        row_idx = np.random.randint(0, len(df_with_nans))\n",
    "        col_idx = np.random.randint(0, len(df_with_nans.columns))\n",
    "        df_with_nans.iat[row_idx, col_idx] = np.nan\n",
    "    \n",
    "    return df_with_nans\n",
    "\n",
    "messy_dataset = introduce_missing_values(dataset, missing_fraction=0.1)\n"
   ]
  },
  {
   "cell_type": "markdown",
   "metadata": {},
   "source": [
    "How to view the dataset?"
   ]
  },
  {
   "cell_type": "code",
   "execution_count": 5,
   "metadata": {},
   "outputs": [],
   "source": [
    "#print the dataset \n"
   ]
  },
  {
   "cell_type": "markdown",
   "metadata": {},
   "source": [
    "How to identify missing values?"
   ]
  },
  {
   "cell_type": "code",
   "execution_count": 6,
   "metadata": {},
   "outputs": [],
   "source": [
    "#write code here to identy the missing values "
   ]
  },
  {
   "cell_type": "markdown",
   "metadata": {},
   "source": [
    "## How to handle those missing values?"
   ]
  },
  {
   "cell_type": "code",
   "execution_count": 32,
   "metadata": {},
   "outputs": [],
   "source": [
    "#write a code to get rid of the missing values "
   ]
  },
  {
   "cell_type": "markdown",
   "metadata": {},
   "source": [
    "## Or how about selecting certain columns or rows? Or caluculating statistics?"
   ]
  },
  {
   "cell_type": "code",
   "execution_count": 34,
   "metadata": {},
   "outputs": [],
   "source": [
    "#write code to get some stats on the dataset "
   ]
  },
  {
   "cell_type": "markdown",
   "metadata": {},
   "source": [
    "# Analysis of Brownian Motion Dataset\n",
    "\n",
    "In this section, we will perform various calculations and analyses on the 2D Brownian motion dataset to understand various aspects of Brownian motion.\n",
    "\n",
    "## 1. Calculation of Mean Squared Displacement (MSD)\n",
    "\n",
    "One of the fundamental quantities to compute for particles undergoing Brownian motion is the Mean Squared Displacement (MSD). It gives insight into the spatial extent of the particle's motion, which is central in determining the diffusive properties of the particle.\n",
    "\n",
    "### Calculating MSD:\n",
    "\n",
    "$$ MSD(t) = \\langle (x(t) - x(0))^2 \\rangle $$\n",
    "\n",
    "Where $x(t)$ and $x(0)$ are the positions of the particle at time $t$ and initial time respectively.\n"
   ]
  },
  {
   "cell_type": "code",
   "execution_count": 35,
   "metadata": {},
   "outputs": [],
   "source": [
    "#write the above to calculate the MSD"
   ]
  },
  {
   "cell_type": "markdown",
   "metadata": {},
   "source": []
  },
  {
   "cell_type": "markdown",
   "metadata": {},
   "source": [
    "## 2. Estimating Diffusion Coefficient\n",
    "\n",
    "The diffusion coefficient is a fundamental parameter in the analysis of Brownian motion. It can be estimated from the MSD as:\n",
    " \n",
    "$$D= \\frac{MSD(t)}{4t}$$\n",
    " \n",
    "This is for a 2D Brownian motion."
   ]
  },
  {
   "cell_type": "code",
   "execution_count": 37,
   "metadata": {},
   "outputs": [],
   "source": [
    "#calculate the diffusion coefficient \n"
   ]
  },
  {
   "cell_type": "markdown",
   "metadata": {},
   "source": [
    "## 3. Velocity Autocorrelations\n",
    "\n",
    "Calculate the velocity autocorrelations to analyze the correlations in the motion of the particles. This will give insight into the memory and the randomness of the motion."
   ]
  },
  {
   "cell_type": "code",
   "execution_count": 42,
   "metadata": {},
   "outputs": [],
   "source": [
    "#calculate the velocity autocorrelations\n"
   ]
  },
  {
   "cell_type": "code",
   "execution_count": null,
   "metadata": {},
   "outputs": [],
   "source": []
  },
  {
   "cell_type": "code",
   "execution_count": null,
   "metadata": {},
   "outputs": [],
   "source": []
  },
  {
   "cell_type": "code",
   "execution_count": null,
   "metadata": {},
   "outputs": [],
   "source": []
  }
 ],
 "metadata": {
  "kernelspec": {
   "display_name": "qmt",
   "language": "python",
   "name": "python3"
  },
  "language_info": {
   "codemirror_mode": {
    "name": "ipython",
    "version": 3
   },
   "file_extension": ".py",
   "mimetype": "text/x-python",
   "name": "python",
   "nbconvert_exporter": "python",
   "pygments_lexer": "ipython3",
   "version": "3.11.4"
  },
  "orig_nbformat": 4
 },
 "nbformat": 4,
 "nbformat_minor": 2
}
